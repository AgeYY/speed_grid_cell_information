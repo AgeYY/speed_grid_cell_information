{
 "cells": [
  {
   "cell_type": "code",
   "execution_count": 7,
   "id": "6cccaead-78cc-4c25-9756-6191b0f10e7f",
   "metadata": {},
   "outputs": [
    {
     "data": {
      "text/plain": [
       "0"
      ]
     },
     "execution_count": 7,
     "metadata": {},
     "output_type": "execute_result"
    }
   ],
   "source": [
    "import os\n",
    "os.system(f'add_python_path.bat')\n",
    "\n",
    "# please put the raw grid cell spiking data into ./data/Toroidal_topology_grid_cell_data. Raw spiking data can be found in Gardner et al (2022) \n",
    "# (link: https://figshare.com/articles/dataset/Toroidal_topology_of_population_activity_in_grid_cells/16764508?file=35078602)\n",
    "\n",
    "# all generated data can be found in ./data/\n",
    "# all generated figures can be found in ./data/fig\n",
    "# Generating data can take quite some time, so we prepared some generated data files in (https://wustl.box.com/s/9uu905omt7xf48hcepk9c7qi3hl1oyzu)\n",
    "# Please put all data files under ./data/"
   ]
  },
  {
   "cell_type": "code",
   "execution_count": null,
   "id": "fa1dd205-d25a-476e-a32e-b5515b0b0fb0",
   "metadata": {},
   "outputs": [],
   "source": [
    "# Preprocess raw data\n",
    "os.system(f'python generate_processed_exp_data.py')"
   ]
  },
  {
   "cell_type": "code",
   "execution_count": 9,
   "id": "90b879aa-54a0-496c-8352-cea8a3ebe1e7",
   "metadata": {},
   "outputs": [
    {
     "data": {
      "text/plain": [
       "0"
      ]
     },
     "execution_count": 9,
     "metadata": {},
     "output_type": "execute_result"
    }
   ],
   "source": [
    "os.system(f'python ./bin/plot_rate_map.py') # Figure 1A"
   ]
  },
  {
   "cell_type": "code",
   "execution_count": 11,
   "id": "12c89145-9503-41ba-bb90-91442e7f7db5",
   "metadata": {},
   "outputs": [
    {
     "data": {
      "text/plain": [
       "0"
      ]
     },
     "execution_count": 11,
     "metadata": {},
     "output_type": "execute_result"
    }
   ],
   "source": [
    "os.system(f'python ./bin/lca_iid.py') # generate SCA and IFGC SCA data. You can skip this step by directly downloading data from the wustl box.\n",
    "os.system(f'python ./bin/plot_lca_iid.py') # Plot Figure 1C, 1D, 6E"
   ]
  },
  {
   "cell_type": "code",
   "execution_count": 12,
   "id": "873ebdb4-aed7-4fba-9a91-569486c7f1de",
   "metadata": {},
   "outputs": [
    {
     "data": {
      "text/plain": [
       "0"
      ]
     },
     "execution_count": 12,
     "metadata": {},
     "output_type": "execute_result"
    }
   ],
   "source": [
    "os.system(f'python ./bin/gpr_avg_circle_manifold.py') # Figure 2B"
   ]
  },
  {
   "cell_type": "code",
   "execution_count": 13,
   "id": "175e99bd-8c98-4758-a12d-90ab9d077dc0",
   "metadata": {},
   "outputs": [
    {
     "data": {
      "text/plain": [
       "0"
      ]
     },
     "execution_count": 13,
     "metadata": {},
     "output_type": "execute_result"
    }
   ],
   "source": [
    "# Testing GKR on synthetic datasets.\n",
    "# Compute the relative prediction errors for varing number of neurons and data.\n",
    "os.system(f'mpiexec -n 5 python toy_manifold_metric_n_dim_parallel.py') # skip by downloading data from the wustl box\n",
    "os.system(f'mpiexec -n 5 python toy_manifold_metric_n_data_parallel.py') # skip by downloading data from the wustl box\n",
    "\n",
    "os.system(f'python ./bin/tm_metric_visualize.py') # Figure 2C, 2D."
   ]
  },
  {
   "cell_type": "code",
   "execution_count": null,
   "id": "b24621b7-ee14-46db-a4e0-84a65340668c",
   "metadata": {},
   "outputs": [],
   "source": [
    "# train GKR models. This can take a few hours to days.\n",
    "os.system(f'python ./bin/fit_gkr_models.py') # Skip by downloading prepared data from the wustl box"
   ]
  },
  {
   "cell_type": "code",
   "execution_count": null,
   "id": "3f3ff0b9-d56a-43d9-ab06-a18b12b8e8a3",
   "metadata": {},
   "outputs": [],
   "source": [
    "os.system(f'python ./bin/barcode.py') # Figure 3A. This can take a few hours."
   ]
  },
  {
   "cell_type": "code",
   "execution_count": 18,
   "id": "4a035b83-a0c0-40eb-a32c-95e1f6f328aa",
   "metadata": {},
   "outputs": [
    {
     "data": {
      "text/plain": [
       "0"
      ]
     },
     "execution_count": 18,
     "metadata": {},
     "output_type": "execute_result"
    }
   ],
   "source": [
    "os.system(f'python ./bin/show_manifold_slice.py') # Figure 3C\n",
    "os.system(f'python ./bin/show_lattice_slice.py') # Figure 3E"
   ]
  },
  {
   "cell_type": "code",
   "execution_count": null,
   "id": "21630385-0136-4b4b-8ca3-2b81a0e6f282",
   "metadata": {},
   "outputs": [],
   "source": [
    "# compute torus (SSM) geometry (include the IFGC version): radius, lattice area, total noise, projected noise, Fisher.\n",
    "os.system(f'python ./bin/torus_size.py') # Can take a few hours. Skip by downloading data.\n",
    "\n",
    "os.system(f'python ./bin/plot_torus_size.py') # Figure 3F, 4B, 4C, 5A, 5B"
   ]
  },
  {
   "cell_type": "code",
   "execution_count": 19,
   "id": "82256103-6228-46f1-8f3d-a80b8b16af73",
   "metadata": {},
   "outputs": [
    {
     "data": {
      "text/plain": [
       "0"
      ]
     },
     "execution_count": 19,
     "metadata": {},
     "output_type": "execute_result"
    }
   ],
   "source": [
    "# compute SCA and Upper bound predicted by Fisher info\n",
    "os.system(f'python ./bin/lca_upper_bound.py') # may take sometime, skip by downloading data\n",
    "\n",
    "os.system(f'python ./bin/plot_lca_upper_bound.py') # Figure 5C, 5D"
   ]
  },
  {
   "cell_type": "code",
   "execution_count": 21,
   "id": "001c4c4f-230f-4f16-9876-ede97d4df1fe",
   "metadata": {},
   "outputs": [
    {
     "data": {
      "text/plain": [
       "0"
      ]
     },
     "execution_count": 21,
     "metadata": {},
     "output_type": "execute_result"
    }
   ],
   "source": [
    "os.system(f'python ./bin/plot_torus_size_iid.py') # Figure 6B, 6C, 6D\n",
    "# Figure 6E is os.system(f'python ./bin/plot_lca_iid.py'), already executed by the early block of this notebook."
   ]
  },
  {
   "cell_type": "code",
   "execution_count": null,
   "id": "7e2e72e9-2954-434b-bff0-70fd716b9f7d",
   "metadata": {},
   "outputs": [],
   "source": []
  }
 ],
 "metadata": {
  "kernelspec": {
   "display_name": "Python 3 (ipykernel)",
   "language": "python",
   "name": "python3"
  },
  "language_info": {
   "codemirror_mode": {
    "name": "ipython",
    "version": 3
   },
   "file_extension": ".py",
   "mimetype": "text/x-python",
   "name": "python",
   "nbconvert_exporter": "python",
   "pygments_lexer": "ipython3",
   "version": "3.9.18"
  }
 },
 "nbformat": 4,
 "nbformat_minor": 5
}
